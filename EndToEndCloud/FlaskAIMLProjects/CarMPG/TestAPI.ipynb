{
 "cells": [
  {
   "cell_type": "code",
   "execution_count": 1,
   "metadata": {},
   "outputs": [],
   "source": [
    "import requests"
   ]
  },
  {
   "cell_type": "code",
   "execution_count": 2,
   "metadata": {},
   "outputs": [
    {
     "name": "stdout",
     "output_type": "stream",
     "text": [
      "Works: {\n",
      "  \"errors\": [], \n",
      "  \"id\": \"4c79f200-2c70-4cc5-b444-e1ad634edab4\", \n",
      "  \"mpg\": 16.536115646362305\n",
      "}\n",
      "\n"
     ]
    }
   ],
   "source": [
    "json = {\"cylinders\": 8,\n",
    " \"displacement\": 300,\n",
    " \"horsepower\": 78,\n",
    " \"weight\": 3500,\n",
    " \"acceleration\": 20,\n",
    " \"year\": 76,\n",
    " \"origin\": 1}\n",
    "\n",
    "r = requests.post('http://localhost:5000/api', json=json)\n",
    "if r.status_code == 200:\n",
    "    print(f\"Works: {r.text}\")\n",
    "else:\n",
    "    print(f\"Fail: {r.text}\")"
   ]
  },
  {
   "cell_type": "code",
   "execution_count": null,
   "metadata": {},
   "outputs": [],
   "source": []
  }
 ],
 "metadata": {
  "kernelspec": {
   "display_name": "Python 3",
   "language": "python",
   "name": "python3"
  },
  "language_info": {
   "codemirror_mode": {
    "name": "ipython",
    "version": 3
   },
   "file_extension": ".py",
   "mimetype": "text/x-python",
   "name": "python",
   "nbconvert_exporter": "python",
   "pygments_lexer": "ipython3",
   "version": "3.7.4"
  }
 },
 "nbformat": 4,
 "nbformat_minor": 2
}
