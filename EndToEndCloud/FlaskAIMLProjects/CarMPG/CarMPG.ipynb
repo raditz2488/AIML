{
 "cells": [
  {
   "cell_type": "markdown",
   "metadata": {},
   "source": [
    "## Import necessary dependencies"
   ]
  },
  {
   "cell_type": "code",
   "execution_count": 29,
   "metadata": {},
   "outputs": [],
   "source": [
    "from tensorflow.keras.models import Sequential\n",
    "from tensorflow.keras.layers import Dense, Activation\n",
    "from sklearn.model_selection import train_test_split\n",
    "from tensorflow.keras.callbacks import EarlyStopping\n",
    "import pandas as pd\n",
    "import io\n",
    "import os\n",
    "import requests\n",
    "import numpy as np\n",
    "from sklearn import metrics"
   ]
  },
  {
   "cell_type": "markdown",
   "metadata": {},
   "source": [
    "## Read the dataset"
   ]
  },
  {
   "cell_type": "code",
   "execution_count": 5,
   "metadata": {},
   "outputs": [],
   "source": [
    "df = pd.read_csv('auto-mpg.csv', na_values=['NA', '?'])# Strings NA and ? will be recognised as NA"
   ]
  },
  {
   "cell_type": "markdown",
   "metadata": {},
   "source": [
    "## Have some insights about the dataset"
   ]
  },
  {
   "cell_type": "code",
   "execution_count": 9,
   "metadata": {},
   "outputs": [
    {
     "data": {
      "text/plain": [
       "(398, 9)"
      ]
     },
     "execution_count": 9,
     "metadata": {},
     "output_type": "execute_result"
    }
   ],
   "source": [
    "df.shape"
   ]
  },
  {
   "cell_type": "code",
   "execution_count": 6,
   "metadata": {},
   "outputs": [
    {
     "data": {
      "text/html": [
       "<div>\n",
       "<style scoped>\n",
       "    .dataframe tbody tr th:only-of-type {\n",
       "        vertical-align: middle;\n",
       "    }\n",
       "\n",
       "    .dataframe tbody tr th {\n",
       "        vertical-align: top;\n",
       "    }\n",
       "\n",
       "    .dataframe thead th {\n",
       "        text-align: right;\n",
       "    }\n",
       "</style>\n",
       "<table border=\"1\" class=\"dataframe\">\n",
       "  <thead>\n",
       "    <tr style=\"text-align: right;\">\n",
       "      <th></th>\n",
       "      <th>mpg</th>\n",
       "      <th>cylinders</th>\n",
       "      <th>displacement</th>\n",
       "      <th>horsepower</th>\n",
       "      <th>weight</th>\n",
       "      <th>acceleration</th>\n",
       "      <th>year</th>\n",
       "      <th>origin</th>\n",
       "      <th>name</th>\n",
       "    </tr>\n",
       "  </thead>\n",
       "  <tbody>\n",
       "    <tr>\n",
       "      <td>0</td>\n",
       "      <td>18.0</td>\n",
       "      <td>8</td>\n",
       "      <td>307.0</td>\n",
       "      <td>130.0</td>\n",
       "      <td>3504</td>\n",
       "      <td>12.0</td>\n",
       "      <td>70</td>\n",
       "      <td>1</td>\n",
       "      <td>chevrolet chevelle malibu</td>\n",
       "    </tr>\n",
       "    <tr>\n",
       "      <td>1</td>\n",
       "      <td>15.0</td>\n",
       "      <td>8</td>\n",
       "      <td>350.0</td>\n",
       "      <td>165.0</td>\n",
       "      <td>3693</td>\n",
       "      <td>11.5</td>\n",
       "      <td>70</td>\n",
       "      <td>1</td>\n",
       "      <td>buick skylark 320</td>\n",
       "    </tr>\n",
       "    <tr>\n",
       "      <td>2</td>\n",
       "      <td>18.0</td>\n",
       "      <td>8</td>\n",
       "      <td>318.0</td>\n",
       "      <td>150.0</td>\n",
       "      <td>3436</td>\n",
       "      <td>11.0</td>\n",
       "      <td>70</td>\n",
       "      <td>1</td>\n",
       "      <td>plymouth satellite</td>\n",
       "    </tr>\n",
       "    <tr>\n",
       "      <td>3</td>\n",
       "      <td>16.0</td>\n",
       "      <td>8</td>\n",
       "      <td>304.0</td>\n",
       "      <td>150.0</td>\n",
       "      <td>3433</td>\n",
       "      <td>12.0</td>\n",
       "      <td>70</td>\n",
       "      <td>1</td>\n",
       "      <td>amc rebel sst</td>\n",
       "    </tr>\n",
       "    <tr>\n",
       "      <td>4</td>\n",
       "      <td>17.0</td>\n",
       "      <td>8</td>\n",
       "      <td>302.0</td>\n",
       "      <td>140.0</td>\n",
       "      <td>3449</td>\n",
       "      <td>10.5</td>\n",
       "      <td>70</td>\n",
       "      <td>1</td>\n",
       "      <td>ford torino</td>\n",
       "    </tr>\n",
       "  </tbody>\n",
       "</table>\n",
       "</div>"
      ],
      "text/plain": [
       "    mpg  cylinders  displacement  horsepower  weight  acceleration  year  \\\n",
       "0  18.0          8         307.0       130.0    3504          12.0    70   \n",
       "1  15.0          8         350.0       165.0    3693          11.5    70   \n",
       "2  18.0          8         318.0       150.0    3436          11.0    70   \n",
       "3  16.0          8         304.0       150.0    3433          12.0    70   \n",
       "4  17.0          8         302.0       140.0    3449          10.5    70   \n",
       "\n",
       "   origin                       name  \n",
       "0       1  chevrolet chevelle malibu  \n",
       "1       1          buick skylark 320  \n",
       "2       1         plymouth satellite  \n",
       "3       1              amc rebel sst  \n",
       "4       1                ford torino  "
      ]
     },
     "execution_count": 6,
     "metadata": {},
     "output_type": "execute_result"
    }
   ],
   "source": [
    "df.head()"
   ]
  },
  {
   "cell_type": "code",
   "execution_count": 7,
   "metadata": {},
   "outputs": [
    {
     "data": {
      "text/plain": [
       "mpg             0\n",
       "cylinders       0\n",
       "displacement    0\n",
       "horsepower      6\n",
       "weight          0\n",
       "acceleration    0\n",
       "year            0\n",
       "origin          0\n",
       "name            0\n",
       "dtype: int64"
      ]
     },
     "execution_count": 7,
     "metadata": {},
     "output_type": "execute_result"
    }
   ],
   "source": [
    "df.isnull().sum()"
   ]
  },
  {
   "cell_type": "markdown",
   "metadata": {},
   "source": [
    "horsepower has 6 missing values. Let see what we can impute it with"
   ]
  },
  {
   "cell_type": "code",
   "execution_count": 8,
   "metadata": {},
   "outputs": [
    {
     "data": {
      "text/plain": [
       "count    392.000000\n",
       "mean     104.469388\n",
       "std       38.491160\n",
       "min       46.000000\n",
       "25%       75.000000\n",
       "50%       93.500000\n",
       "75%      126.000000\n",
       "max      230.000000\n",
       "Name: horsepower, dtype: float64"
      ]
     },
     "execution_count": 8,
     "metadata": {},
     "output_type": "execute_result"
    }
   ],
   "source": [
    "df['horsepower'].describe()"
   ]
  },
  {
   "cell_type": "markdown",
   "metadata": {},
   "source": [
    "The median and average for horsepower are very close. Lets impute with median"
   ]
  },
  {
   "cell_type": "code",
   "execution_count": 10,
   "metadata": {},
   "outputs": [],
   "source": [
    "df['horsepower'] = df['horsepower'].fillna(df['horsepower'].median())"
   ]
  },
  {
   "cell_type": "code",
   "execution_count": 11,
   "metadata": {},
   "outputs": [
    {
     "data": {
      "text/plain": [
       "mpg             0\n",
       "cylinders       0\n",
       "displacement    0\n",
       "horsepower      0\n",
       "weight          0\n",
       "acceleration    0\n",
       "year            0\n",
       "origin          0\n",
       "name            0\n",
       "dtype: int64"
      ]
     },
     "execution_count": 11,
     "metadata": {},
     "output_type": "execute_result"
    }
   ],
   "source": [
    "df.isnull().sum()"
   ]
  },
  {
   "cell_type": "markdown",
   "metadata": {},
   "source": [
    "Now we have taken care of all missing values"
   ]
  },
  {
   "cell_type": "markdown",
   "metadata": {},
   "source": [
    "## Seperate X and y"
   ]
  },
  {
   "cell_type": "code",
   "execution_count": 12,
   "metadata": {},
   "outputs": [],
   "source": [
    "X = df[['cylinders', 'displacement', 'horsepower', 'weight', 'acceleration', 'year', 'origin']].values\n",
    "y = df['mpg'].values"
   ]
  },
  {
   "cell_type": "markdown",
   "metadata": {},
   "source": [
    "## Train test split\n",
    "train ~ 0.75, test ~ 0.25"
   ]
  },
  {
   "cell_type": "code",
   "execution_count": 15,
   "metadata": {},
   "outputs": [],
   "source": [
    "X_train, X_test, y_train, y_test = train_test_split(X, y, test_size=0.25, random_state=100)"
   ]
  },
  {
   "cell_type": "markdown",
   "metadata": {},
   "source": [
    "## Define the model"
   ]
  },
  {
   "cell_type": "code",
   "execution_count": 24,
   "metadata": {},
   "outputs": [],
   "source": [
    "model = Sequential()\n",
    "model.add(Dense(25, input_dim=X_train.shape[1], activation='relu'))\n",
    "model.add(Dense(10, activation='relu'))\n",
    "model.add(Dense(1))"
   ]
  },
  {
   "cell_type": "markdown",
   "metadata": {},
   "source": [
    "## Compile the model\n",
    "Tell the model how it should learn"
   ]
  },
  {
   "cell_type": "code",
   "execution_count": 25,
   "metadata": {},
   "outputs": [],
   "source": [
    "model.compile(loss='mean_squared_error', optimizer='adam')"
   ]
  },
  {
   "cell_type": "markdown",
   "metadata": {},
   "source": [
    "## Create call backs"
   ]
  },
  {
   "cell_type": "code",
   "execution_count": 26,
   "metadata": {},
   "outputs": [],
   "source": [
    "monitor = EarlyStopping(monitor='val_loss', min_delta=1e-3, patience=5, verbose=1, mode='auto', restore_best_weights=True)"
   ]
  },
  {
   "cell_type": "markdown",
   "metadata": {},
   "source": [
    "## Train the model"
   ]
  },
  {
   "cell_type": "code",
   "execution_count": 27,
   "metadata": {},
   "outputs": [
    {
     "name": "stdout",
     "output_type": "stream",
     "text": [
      "Train on 298 samples, validate on 100 samples\n",
      "Epoch 1/1000\n",
      "298/298 - 1s - loss: 37123.6468 - val_loss: 10558.8647\n",
      "Epoch 2/1000\n",
      "298/298 - 0s - loss: 2918.1732 - val_loss: 473.9703\n",
      "Epoch 3/1000\n",
      "298/298 - 0s - loss: 1640.6323 - val_loss: 2216.2693\n",
      "Epoch 4/1000\n",
      "298/298 - 0s - loss: 1200.6486 - val_loss: 185.9029\n",
      "Epoch 5/1000\n",
      "298/298 - 0s - loss: 125.8582 - val_loss: 280.9105\n",
      "Epoch 6/1000\n",
      "298/298 - 0s - loss: 233.6279 - val_loss: 147.8307\n",
      "Epoch 7/1000\n",
      "298/298 - 0s - loss: 85.6960 - val_loss: 88.8621\n",
      "Epoch 8/1000\n",
      "298/298 - 0s - loss: 91.2784 - val_loss: 90.4729\n",
      "Epoch 9/1000\n",
      "298/298 - 0s - loss: 76.4589 - val_loss: 82.9003\n",
      "Epoch 10/1000\n",
      "298/298 - 0s - loss: 73.6453 - val_loss: 82.3471\n",
      "Epoch 11/1000\n",
      "298/298 - 0s - loss: 72.0985 - val_loss: 79.4452\n",
      "Epoch 12/1000\n",
      "298/298 - 0s - loss: 70.4748 - val_loss: 78.7086\n",
      "Epoch 13/1000\n",
      "298/298 - 0s - loss: 70.0037 - val_loss: 77.9744\n",
      "Epoch 14/1000\n",
      "298/298 - 0s - loss: 69.3092 - val_loss: 78.3367\n",
      "Epoch 15/1000\n",
      "298/298 - 0s - loss: 69.2428 - val_loss: 76.6838\n",
      "Epoch 16/1000\n",
      "298/298 - 0s - loss: 68.4758 - val_loss: 76.3383\n",
      "Epoch 17/1000\n",
      "298/298 - 0s - loss: 67.3582 - val_loss: 75.3481\n",
      "Epoch 18/1000\n",
      "298/298 - 0s - loss: 66.7668 - val_loss: 74.8630\n",
      "Epoch 19/1000\n",
      "298/298 - 0s - loss: 66.2302 - val_loss: 73.8377\n",
      "Epoch 20/1000\n",
      "298/298 - 0s - loss: 65.5216 - val_loss: 72.9580\n",
      "Epoch 21/1000\n",
      "298/298 - 0s - loss: 64.7983 - val_loss: 73.1967\n",
      "Epoch 22/1000\n",
      "298/298 - 0s - loss: 64.3160 - val_loss: 71.5168\n",
      "Epoch 23/1000\n",
      "298/298 - 0s - loss: 63.5108 - val_loss: 71.0778\n",
      "Epoch 24/1000\n",
      "298/298 - 0s - loss: 62.9712 - val_loss: 70.7689\n",
      "Epoch 25/1000\n",
      "298/298 - 0s - loss: 62.1968 - val_loss: 69.0248\n",
      "Epoch 26/1000\n",
      "298/298 - 0s - loss: 61.4025 - val_loss: 68.4321\n",
      "Epoch 27/1000\n",
      "298/298 - 0s - loss: 61.1723 - val_loss: 68.4313\n",
      "Epoch 28/1000\n",
      "298/298 - 0s - loss: 60.2423 - val_loss: 66.6169\n",
      "Epoch 29/1000\n",
      "298/298 - 0s - loss: 59.4218 - val_loss: 66.0682\n",
      "Epoch 30/1000\n",
      "298/298 - 0s - loss: 58.8189 - val_loss: 65.1453\n",
      "Epoch 31/1000\n",
      "298/298 - 0s - loss: 57.8397 - val_loss: 64.1844\n",
      "Epoch 32/1000\n",
      "298/298 - 0s - loss: 57.4634 - val_loss: 63.9643\n",
      "Epoch 33/1000\n",
      "298/298 - 0s - loss: 56.5589 - val_loss: 62.7027\n",
      "Epoch 34/1000\n",
      "298/298 - 0s - loss: 55.9560 - val_loss: 61.8301\n",
      "Epoch 35/1000\n",
      "298/298 - 0s - loss: 55.5521 - val_loss: 61.0088\n",
      "Epoch 36/1000\n",
      "298/298 - 0s - loss: 55.2581 - val_loss: 61.1478\n",
      "Epoch 37/1000\n",
      "298/298 - 0s - loss: 53.8636 - val_loss: 59.5650\n",
      "Epoch 38/1000\n",
      "298/298 - 0s - loss: 53.2228 - val_loss: 58.6505\n",
      "Epoch 39/1000\n",
      "298/298 - 0s - loss: 52.4283 - val_loss: 58.3070\n",
      "Epoch 40/1000\n",
      "298/298 - 0s - loss: 52.0133 - val_loss: 57.1719\n",
      "Epoch 41/1000\n",
      "298/298 - 0s - loss: 51.2545 - val_loss: 56.9291\n",
      "Epoch 42/1000\n",
      "298/298 - 0s - loss: 51.1731 - val_loss: 55.6540\n",
      "Epoch 43/1000\n",
      "298/298 - 0s - loss: 50.0531 - val_loss: 55.2464\n",
      "Epoch 44/1000\n",
      "298/298 - 0s - loss: 49.2894 - val_loss: 54.2128\n",
      "Epoch 45/1000\n",
      "298/298 - 0s - loss: 48.6581 - val_loss: 53.7410\n",
      "Epoch 46/1000\n",
      "298/298 - 0s - loss: 47.9618 - val_loss: 52.7854\n",
      "Epoch 47/1000\n",
      "298/298 - 0s - loss: 47.6299 - val_loss: 52.3248\n",
      "Epoch 48/1000\n",
      "298/298 - 0s - loss: 46.7130 - val_loss: 51.3788\n",
      "Epoch 49/1000\n",
      "298/298 - 0s - loss: 46.1486 - val_loss: 51.0062\n",
      "Epoch 50/1000\n",
      "298/298 - 0s - loss: 45.4579 - val_loss: 49.9849\n",
      "Epoch 51/1000\n",
      "298/298 - 0s - loss: 44.9613 - val_loss: 49.3316\n",
      "Epoch 52/1000\n",
      "298/298 - 0s - loss: 44.5105 - val_loss: 49.2102\n",
      "Epoch 53/1000\n",
      "298/298 - 0s - loss: 45.2040 - val_loss: 48.0137\n",
      "Epoch 54/1000\n",
      "298/298 - 0s - loss: 43.6222 - val_loss: 48.2874\n",
      "Epoch 55/1000\n",
      "298/298 - 0s - loss: 42.4672 - val_loss: 46.9719\n",
      "Epoch 56/1000\n",
      "298/298 - 0s - loss: 42.5817 - val_loss: 46.5298\n",
      "Epoch 57/1000\n",
      "298/298 - 0s - loss: 42.5663 - val_loss: 45.5115\n",
      "Epoch 58/1000\n",
      "298/298 - 0s - loss: 41.1105 - val_loss: 45.0486\n",
      "Epoch 59/1000\n",
      "298/298 - 0s - loss: 40.5266 - val_loss: 44.4122\n",
      "Epoch 60/1000\n",
      "298/298 - 0s - loss: 39.9898 - val_loss: 43.7549\n",
      "Epoch 61/1000\n",
      "298/298 - 0s - loss: 39.6541 - val_loss: 43.2268\n",
      "Epoch 62/1000\n",
      "298/298 - 0s - loss: 39.2377 - val_loss: 42.6186\n",
      "Epoch 63/1000\n",
      "298/298 - 0s - loss: 38.6410 - val_loss: 42.1784\n",
      "Epoch 64/1000\n",
      "298/298 - 0s - loss: 38.2448 - val_loss: 41.5129\n",
      "Epoch 65/1000\n",
      "298/298 - 0s - loss: 38.3027 - val_loss: 40.9857\n",
      "Epoch 66/1000\n",
      "298/298 - 0s - loss: 38.0430 - val_loss: 40.4703\n",
      "Epoch 67/1000\n",
      "298/298 - 0s - loss: 36.9828 - val_loss: 40.2660\n",
      "Epoch 68/1000\n",
      "298/298 - 0s - loss: 36.1973 - val_loss: 39.5177\n",
      "Epoch 69/1000\n",
      "298/298 - 0s - loss: 35.8457 - val_loss: 39.2451\n",
      "Epoch 70/1000\n",
      "298/298 - 0s - loss: 35.6139 - val_loss: 38.5070\n",
      "Epoch 71/1000\n",
      "298/298 - 0s - loss: 35.3121 - val_loss: 38.0808\n",
      "Epoch 72/1000\n",
      "298/298 - 0s - loss: 34.6998 - val_loss: 37.6327\n",
      "Epoch 73/1000\n",
      "298/298 - 0s - loss: 34.6152 - val_loss: 37.0922\n",
      "Epoch 74/1000\n",
      "298/298 - 0s - loss: 33.7953 - val_loss: 36.6543\n",
      "Epoch 75/1000\n",
      "298/298 - 0s - loss: 34.0361 - val_loss: 36.3055\n",
      "Epoch 76/1000\n",
      "298/298 - 0s - loss: 34.7142 - val_loss: 35.7715\n",
      "Epoch 77/1000\n",
      "298/298 - 0s - loss: 33.3510 - val_loss: 35.5411\n",
      "Epoch 78/1000\n",
      "298/298 - 0s - loss: 32.2810 - val_loss: 35.0047\n",
      "Epoch 79/1000\n",
      "298/298 - 0s - loss: 32.1126 - val_loss: 34.5580\n",
      "Epoch 80/1000\n",
      "298/298 - 0s - loss: 31.6468 - val_loss: 34.1758\n",
      "Epoch 81/1000\n",
      "298/298 - 0s - loss: 31.2263 - val_loss: 33.9074\n",
      "Epoch 82/1000\n",
      "298/298 - 0s - loss: 31.0603 - val_loss: 33.4938\n",
      "Epoch 83/1000\n",
      "298/298 - 0s - loss: 31.0206 - val_loss: 33.1929\n",
      "Epoch 84/1000\n",
      "298/298 - 0s - loss: 30.6976 - val_loss: 32.8555\n",
      "Epoch 85/1000\n",
      "298/298 - 0s - loss: 31.3421 - val_loss: 32.6235\n",
      "Epoch 86/1000\n",
      "298/298 - 0s - loss: 30.1392 - val_loss: 32.0679\n",
      "Epoch 87/1000\n",
      "298/298 - 0s - loss: 29.5397 - val_loss: 31.6304\n",
      "Epoch 88/1000\n",
      "298/298 - 0s - loss: 29.0026 - val_loss: 31.4688\n",
      "Epoch 89/1000\n",
      "298/298 - 0s - loss: 29.1012 - val_loss: 31.4472\n",
      "Epoch 90/1000\n",
      "298/298 - 0s - loss: 28.8816 - val_loss: 30.7962\n",
      "Epoch 91/1000\n",
      "298/298 - 0s - loss: 28.4293 - val_loss: 30.4297\n",
      "Epoch 92/1000\n",
      "298/298 - 0s - loss: 28.4823 - val_loss: 30.1340\n",
      "Epoch 93/1000\n",
      "298/298 - 0s - loss: 27.9155 - val_loss: 29.8805\n",
      "Epoch 94/1000\n",
      "298/298 - 0s - loss: 28.2922 - val_loss: 30.0028\n",
      "Epoch 95/1000\n",
      "298/298 - 0s - loss: 27.6808 - val_loss: 29.2491\n",
      "Epoch 96/1000\n",
      "298/298 - 0s - loss: 27.0334 - val_loss: 28.9952\n",
      "Epoch 97/1000\n",
      "298/298 - 0s - loss: 27.1201 - val_loss: 28.7013\n",
      "Epoch 98/1000\n",
      "298/298 - 0s - loss: 27.0506 - val_loss: 28.6518\n",
      "Epoch 99/1000\n",
      "298/298 - 0s - loss: 27.3170 - val_loss: 29.1883\n",
      "Epoch 100/1000\n",
      "298/298 - 0s - loss: 27.7043 - val_loss: 29.0761\n",
      "Epoch 101/1000\n",
      "298/298 - 0s - loss: 26.9738 - val_loss: 28.4266\n",
      "Epoch 102/1000\n",
      "298/298 - 0s - loss: 26.0347 - val_loss: 27.8090\n",
      "Epoch 103/1000\n",
      "298/298 - 0s - loss: 26.0120 - val_loss: 27.1581\n",
      "Epoch 104/1000\n",
      "298/298 - 0s - loss: 25.8219 - val_loss: 26.9731\n",
      "Epoch 105/1000\n",
      "298/298 - 0s - loss: 25.1020 - val_loss: 26.7208\n",
      "Epoch 106/1000\n",
      "298/298 - 0s - loss: 25.0801 - val_loss: 26.5792\n",
      "Epoch 107/1000\n",
      "298/298 - 0s - loss: 24.8315 - val_loss: 26.2403\n",
      "Epoch 108/1000\n",
      "298/298 - 0s - loss: 24.4852 - val_loss: 26.1162\n",
      "Epoch 109/1000\n",
      "298/298 - 0s - loss: 24.4059 - val_loss: 25.8383\n",
      "Epoch 110/1000\n",
      "298/298 - 0s - loss: 24.1665 - val_loss: 25.7964\n",
      "Epoch 111/1000\n",
      "298/298 - 0s - loss: 24.0767 - val_loss: 25.7236\n",
      "Epoch 112/1000\n",
      "298/298 - 0s - loss: 24.1946 - val_loss: 25.2860\n",
      "Epoch 113/1000\n",
      "298/298 - 0s - loss: 23.7728 - val_loss: 25.0847\n",
      "Epoch 114/1000\n",
      "298/298 - 0s - loss: 23.5982 - val_loss: 24.9249\n",
      "Epoch 115/1000\n",
      "298/298 - 0s - loss: 23.5475 - val_loss: 24.7910\n",
      "Epoch 116/1000\n",
      "298/298 - 0s - loss: 23.3969 - val_loss: 24.5829\n",
      "Epoch 117/1000\n",
      "298/298 - 0s - loss: 23.1900 - val_loss: 24.4862\n",
      "Epoch 118/1000\n",
      "298/298 - 0s - loss: 23.6564 - val_loss: 24.9697\n",
      "Epoch 119/1000\n",
      "298/298 - 0s - loss: 23.9952 - val_loss: 24.9232\n",
      "Epoch 120/1000\n",
      "298/298 - 0s - loss: 23.8596 - val_loss: 24.9246\n",
      "Epoch 121/1000\n",
      "298/298 - 0s - loss: 22.5585 - val_loss: 24.2644\n",
      "Epoch 122/1000\n",
      "298/298 - 0s - loss: 22.4373 - val_loss: 24.1659\n",
      "Epoch 123/1000\n",
      "298/298 - 0s - loss: 22.4413 - val_loss: 23.6083\n",
      "Epoch 124/1000\n",
      "298/298 - 0s - loss: 22.3101 - val_loss: 23.4076\n",
      "Epoch 125/1000\n",
      "298/298 - 0s - loss: 22.4103 - val_loss: 23.5332\n",
      "Epoch 126/1000\n",
      "298/298 - 0s - loss: 22.2589 - val_loss: 23.2360\n",
      "Epoch 127/1000\n",
      "298/298 - 0s - loss: 22.4185 - val_loss: 22.9942\n",
      "Epoch 128/1000\n",
      "298/298 - 0s - loss: 22.0064 - val_loss: 22.7978\n",
      "Epoch 129/1000\n",
      "298/298 - 0s - loss: 21.6553 - val_loss: 22.6392\n"
     ]
    },
    {
     "name": "stdout",
     "output_type": "stream",
     "text": [
      "Epoch 130/1000\n",
      "298/298 - 0s - loss: 21.6884 - val_loss: 22.8155\n",
      "Epoch 131/1000\n",
      "298/298 - 0s - loss: 21.5833 - val_loss: 22.7211\n",
      "Epoch 132/1000\n",
      "298/298 - 0s - loss: 21.4141 - val_loss: 23.5733\n",
      "Epoch 133/1000\n",
      "298/298 - 0s - loss: 21.8298 - val_loss: 22.1631\n",
      "Epoch 134/1000\n",
      "298/298 - 0s - loss: 21.1146 - val_loss: 22.1043\n",
      "Epoch 135/1000\n",
      "298/298 - 0s - loss: 20.9721 - val_loss: 21.8802\n",
      "Epoch 136/1000\n",
      "298/298 - 0s - loss: 20.8474 - val_loss: 21.7793\n",
      "Epoch 137/1000\n",
      "298/298 - 0s - loss: 21.1277 - val_loss: 21.9891\n",
      "Epoch 138/1000\n",
      "298/298 - 0s - loss: 20.9117 - val_loss: 21.5339\n",
      "Epoch 139/1000\n",
      "298/298 - 0s - loss: 20.7547 - val_loss: 21.4954\n",
      "Epoch 140/1000\n",
      "298/298 - 0s - loss: 20.4865 - val_loss: 21.3302\n",
      "Epoch 141/1000\n",
      "298/298 - 0s - loss: 20.5589 - val_loss: 21.5921\n",
      "Epoch 142/1000\n",
      "298/298 - 0s - loss: 20.4301 - val_loss: 21.0840\n",
      "Epoch 143/1000\n",
      "298/298 - 0s - loss: 20.2338 - val_loss: 21.0991\n",
      "Epoch 144/1000\n",
      "298/298 - 0s - loss: 19.9895 - val_loss: 20.9827\n",
      "Epoch 145/1000\n",
      "298/298 - 0s - loss: 20.0949 - val_loss: 21.5765\n",
      "Epoch 146/1000\n",
      "298/298 - 0s - loss: 20.3554 - val_loss: 20.9901\n",
      "Epoch 147/1000\n",
      "298/298 - 0s - loss: 20.3264 - val_loss: 20.5800\n",
      "Epoch 148/1000\n",
      "298/298 - 0s - loss: 19.9171 - val_loss: 20.5625\n",
      "Epoch 149/1000\n",
      "298/298 - 0s - loss: 20.1549 - val_loss: 21.3242\n",
      "Epoch 150/1000\n",
      "298/298 - 0s - loss: 19.8205 - val_loss: 21.6157\n",
      "Epoch 151/1000\n",
      "298/298 - 0s - loss: 19.8431 - val_loss: 20.6994\n",
      "Epoch 152/1000\n",
      "298/298 - 0s - loss: 19.6378 - val_loss: 20.2822\n",
      "Epoch 153/1000\n",
      "298/298 - 0s - loss: 19.5232 - val_loss: 20.0612\n",
      "Epoch 154/1000\n",
      "298/298 - 0s - loss: 20.0814 - val_loss: 20.0976\n",
      "Epoch 155/1000\n",
      "298/298 - 0s - loss: 20.1958 - val_loss: 20.0983\n",
      "Epoch 156/1000\n",
      "298/298 - 0s - loss: 19.2303 - val_loss: 19.8932\n",
      "Epoch 157/1000\n",
      "298/298 - 0s - loss: 19.4848 - val_loss: 20.1466\n",
      "Epoch 158/1000\n",
      "298/298 - 0s - loss: 19.2025 - val_loss: 19.7583\n",
      "Epoch 159/1000\n",
      "298/298 - 0s - loss: 19.2012 - val_loss: 19.6204\n",
      "Epoch 160/1000\n",
      "298/298 - 0s - loss: 19.2209 - val_loss: 19.4871\n",
      "Epoch 161/1000\n",
      "298/298 - 0s - loss: 19.1199 - val_loss: 20.7598\n",
      "Epoch 162/1000\n",
      "298/298 - 0s - loss: 21.2912 - val_loss: 19.6803\n",
      "Epoch 163/1000\n",
      "298/298 - 0s - loss: 19.2344 - val_loss: 19.6022\n",
      "Epoch 164/1000\n",
      "298/298 - 0s - loss: 18.8051 - val_loss: 21.5212\n",
      "Epoch 165/1000\n",
      "298/298 - 0s - loss: 20.4622 - val_loss: 19.1317\n",
      "Epoch 166/1000\n",
      "298/298 - 0s - loss: 18.8881 - val_loss: 19.2087\n",
      "Epoch 167/1000\n",
      "298/298 - 0s - loss: 18.3603 - val_loss: 21.7762\n",
      "Epoch 168/1000\n",
      "298/298 - 0s - loss: 20.4271 - val_loss: 18.8708\n",
      "Epoch 169/1000\n",
      "298/298 - 0s - loss: 19.5772 - val_loss: 19.2731\n",
      "Epoch 170/1000\n",
      "298/298 - 0s - loss: 18.5555 - val_loss: 18.7877\n",
      "Epoch 171/1000\n",
      "298/298 - 0s - loss: 18.4242 - val_loss: 19.1668\n",
      "Epoch 172/1000\n",
      "298/298 - 0s - loss: 18.4772 - val_loss: 18.8904\n",
      "Epoch 173/1000\n",
      "298/298 - 0s - loss: 18.1305 - val_loss: 18.4202\n",
      "Epoch 174/1000\n",
      "298/298 - 0s - loss: 17.8503 - val_loss: 19.2498\n",
      "Epoch 175/1000\n",
      "298/298 - 0s - loss: 18.0946 - val_loss: 19.2102\n",
      "Epoch 176/1000\n",
      "298/298 - 0s - loss: 17.9417 - val_loss: 20.3148\n",
      "Epoch 177/1000\n",
      "298/298 - 0s - loss: 18.9324 - val_loss: 18.1502\n",
      "Epoch 178/1000\n",
      "298/298 - 0s - loss: 18.2242 - val_loss: 18.9919\n",
      "Epoch 179/1000\n",
      "298/298 - 0s - loss: 18.9735 - val_loss: 20.5212\n",
      "Epoch 180/1000\n",
      "298/298 - 0s - loss: 17.8457 - val_loss: 18.0598\n",
      "Epoch 181/1000\n",
      "298/298 - 0s - loss: 17.8798 - val_loss: 17.9376\n",
      "Epoch 182/1000\n",
      "298/298 - 0s - loss: 17.7097 - val_loss: 19.8170\n",
      "Epoch 183/1000\n",
      "298/298 - 0s - loss: 18.1883 - val_loss: 17.7544\n",
      "Epoch 184/1000\n",
      "298/298 - 0s - loss: 17.9002 - val_loss: 19.7358\n",
      "Epoch 185/1000\n",
      "298/298 - 0s - loss: 19.5024 - val_loss: 17.6651\n",
      "Epoch 186/1000\n",
      "298/298 - 0s - loss: 17.3492 - val_loss: 17.7372\n",
      "Epoch 187/1000\n",
      "298/298 - 0s - loss: 17.3878 - val_loss: 17.7251\n",
      "Epoch 188/1000\n",
      "298/298 - 0s - loss: 17.6243 - val_loss: 17.4378\n",
      "Epoch 189/1000\n",
      "298/298 - 0s - loss: 17.2560 - val_loss: 17.3759\n",
      "Epoch 190/1000\n",
      "298/298 - 0s - loss: 17.3732 - val_loss: 17.3845\n",
      "Epoch 191/1000\n",
      "298/298 - 0s - loss: 17.0466 - val_loss: 17.2461\n",
      "Epoch 192/1000\n",
      "298/298 - 0s - loss: 16.9268 - val_loss: 17.2425\n",
      "Epoch 193/1000\n",
      "298/298 - 0s - loss: 16.9026 - val_loss: 17.1943\n",
      "Epoch 194/1000\n",
      "298/298 - 0s - loss: 16.9884 - val_loss: 17.6529\n",
      "Epoch 195/1000\n",
      "298/298 - 0s - loss: 18.6982 - val_loss: 17.0004\n",
      "Epoch 196/1000\n",
      "298/298 - 0s - loss: 16.7926 - val_loss: 16.9849\n",
      "Epoch 197/1000\n",
      "298/298 - 0s - loss: 17.2667 - val_loss: 18.7811\n",
      "Epoch 198/1000\n",
      "298/298 - 0s - loss: 17.1136 - val_loss: 16.9122\n",
      "Epoch 199/1000\n",
      "298/298 - 0s - loss: 16.7210 - val_loss: 17.6448\n",
      "Epoch 200/1000\n",
      "298/298 - 0s - loss: 17.4357 - val_loss: 16.7815\n",
      "Epoch 201/1000\n",
      "298/298 - 0s - loss: 16.5684 - val_loss: 16.7481\n",
      "Epoch 202/1000\n",
      "298/298 - 0s - loss: 16.6121 - val_loss: 16.6949\n",
      "Epoch 203/1000\n",
      "298/298 - 0s - loss: 16.5121 - val_loss: 16.8438\n",
      "Epoch 204/1000\n",
      "298/298 - 0s - loss: 17.2119 - val_loss: 16.5325\n",
      "Epoch 205/1000\n",
      "298/298 - 0s - loss: 16.7195 - val_loss: 16.6929\n",
      "Epoch 206/1000\n",
      "298/298 - 0s - loss: 16.4473 - val_loss: 17.7109\n",
      "Epoch 207/1000\n",
      "298/298 - 0s - loss: 16.1817 - val_loss: 17.5097\n",
      "Epoch 208/1000\n",
      "298/298 - 0s - loss: 17.1078 - val_loss: 16.3240\n",
      "Epoch 209/1000\n",
      "298/298 - 0s - loss: 16.5680 - val_loss: 16.3075\n",
      "Epoch 210/1000\n",
      "298/298 - 0s - loss: 16.0763 - val_loss: 16.5909\n",
      "Epoch 211/1000\n",
      "298/298 - 0s - loss: 16.2904 - val_loss: 17.3813\n",
      "Epoch 212/1000\n",
      "298/298 - 0s - loss: 17.0392 - val_loss: 16.6833\n",
      "Epoch 213/1000\n",
      "298/298 - 0s - loss: 16.2367 - val_loss: 16.6686\n",
      "Epoch 214/1000\n",
      "Restoring model weights from the end of the best epoch.\n",
      "298/298 - 0s - loss: 16.5930 - val_loss: 17.0236\n",
      "Epoch 00214: early stopping\n"
     ]
    },
    {
     "data": {
      "text/plain": [
       "<tensorflow.python.keras.callbacks.History at 0x7fa6b0467450>"
      ]
     },
     "execution_count": 27,
     "metadata": {},
     "output_type": "execute_result"
    }
   ],
   "source": [
    "model.fit(X_train, y_train, validation_data=(X_test, y_test), callbacks=[monitor], verbose=2, epochs=1000)"
   ]
  },
  {
   "cell_type": "markdown",
   "metadata": {},
   "source": [
    "## Validate on the test set"
   ]
  },
  {
   "cell_type": "code",
   "execution_count": 30,
   "metadata": {},
   "outputs": [
    {
     "name": "stdout",
     "output_type": "stream",
     "text": [
      "After training the test score is: 4.038248609429321\n"
     ]
    }
   ],
   "source": [
    "prediction = model.predict(X_test)\n",
    "score = np.sqrt(metrics.mean_squared_error(prediction, y_test))\n",
    "print(f'After training the test score is: {score}')"
   ]
  },
  {
   "cell_type": "code",
   "execution_count": null,
   "metadata": {},
   "outputs": [],
   "source": []
  }
 ],
 "metadata": {
  "kernelspec": {
   "display_name": "Python 3",
   "language": "python",
   "name": "python3"
  },
  "language_info": {
   "codemirror_mode": {
    "name": "ipython",
    "version": 3
   },
   "file_extension": ".py",
   "mimetype": "text/x-python",
   "name": "python",
   "nbconvert_exporter": "python",
   "pygments_lexer": "ipython3",
   "version": "3.7.4"
  }
 },
 "nbformat": 4,
 "nbformat_minor": 2
}
