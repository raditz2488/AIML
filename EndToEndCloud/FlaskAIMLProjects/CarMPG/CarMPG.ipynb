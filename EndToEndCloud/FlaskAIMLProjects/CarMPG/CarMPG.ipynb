{
 "cells": [
  {
   "cell_type": "markdown",
   "metadata": {},
   "source": [
    "## Import necessary dependencies"
   ]
  },
  {
   "cell_type": "code",
   "execution_count": 2,
   "metadata": {},
   "outputs": [
    {
     "name": "stderr",
     "output_type": "stream",
     "text": [
      "/opt/anaconda3/lib/python3.7/importlib/_bootstrap.py:219: RuntimeWarning: numpy.ufunc size changed, may indicate binary incompatibility. Expected 192 from C header, got 216 from PyObject\n",
      "  return f(*args, **kwds)\n",
      "/opt/anaconda3/lib/python3.7/importlib/_bootstrap.py:219: RuntimeWarning: numpy.ufunc size changed, may indicate binary incompatibility. Expected 192 from C header, got 216 from PyObject\n",
      "  return f(*args, **kwds)\n"
     ]
    }
   ],
   "source": [
    "from tensorflow.keras.models import Sequential\n",
    "from tensorflow.keras.layers import Dense, Activation\n",
    "from sklearn.model_selection import train_test_split\n",
    "from tensorflow.keras.callbacks import EarlyStopping\n",
    "import pandas as pd\n",
    "import io\n",
    "import os\n",
    "import requests\n",
    "import numpy as mp\n",
    "from sklearn import metrics"
   ]
  },
  {
   "cell_type": "markdown",
   "metadata": {},
   "source": [
    "## Read the dataset"
   ]
  },
  {
   "cell_type": "code",
   "execution_count": 5,
   "metadata": {},
   "outputs": [],
   "source": [
    "df = pd.read_csv('auto-mpg.csv', na_values=['NA', '?'])# Strings NA and ? will be recognised as NA"
   ]
  },
  {
   "cell_type": "markdown",
   "metadata": {},
   "source": [
    "## Have some insights about the dataset"
   ]
  },
  {
   "cell_type": "code",
   "execution_count": 9,
   "metadata": {},
   "outputs": [
    {
     "data": {
      "text/plain": [
       "(398, 9)"
      ]
     },
     "execution_count": 9,
     "metadata": {},
     "output_type": "execute_result"
    }
   ],
   "source": [
    "df.shape"
   ]
  },
  {
   "cell_type": "code",
   "execution_count": 6,
   "metadata": {},
   "outputs": [
    {
     "data": {
      "text/html": [
       "<div>\n",
       "<style scoped>\n",
       "    .dataframe tbody tr th:only-of-type {\n",
       "        vertical-align: middle;\n",
       "    }\n",
       "\n",
       "    .dataframe tbody tr th {\n",
       "        vertical-align: top;\n",
       "    }\n",
       "\n",
       "    .dataframe thead th {\n",
       "        text-align: right;\n",
       "    }\n",
       "</style>\n",
       "<table border=\"1\" class=\"dataframe\">\n",
       "  <thead>\n",
       "    <tr style=\"text-align: right;\">\n",
       "      <th></th>\n",
       "      <th>mpg</th>\n",
       "      <th>cylinders</th>\n",
       "      <th>displacement</th>\n",
       "      <th>horsepower</th>\n",
       "      <th>weight</th>\n",
       "      <th>acceleration</th>\n",
       "      <th>year</th>\n",
       "      <th>origin</th>\n",
       "      <th>name</th>\n",
       "    </tr>\n",
       "  </thead>\n",
       "  <tbody>\n",
       "    <tr>\n",
       "      <td>0</td>\n",
       "      <td>18.0</td>\n",
       "      <td>8</td>\n",
       "      <td>307.0</td>\n",
       "      <td>130.0</td>\n",
       "      <td>3504</td>\n",
       "      <td>12.0</td>\n",
       "      <td>70</td>\n",
       "      <td>1</td>\n",
       "      <td>chevrolet chevelle malibu</td>\n",
       "    </tr>\n",
       "    <tr>\n",
       "      <td>1</td>\n",
       "      <td>15.0</td>\n",
       "      <td>8</td>\n",
       "      <td>350.0</td>\n",
       "      <td>165.0</td>\n",
       "      <td>3693</td>\n",
       "      <td>11.5</td>\n",
       "      <td>70</td>\n",
       "      <td>1</td>\n",
       "      <td>buick skylark 320</td>\n",
       "    </tr>\n",
       "    <tr>\n",
       "      <td>2</td>\n",
       "      <td>18.0</td>\n",
       "      <td>8</td>\n",
       "      <td>318.0</td>\n",
       "      <td>150.0</td>\n",
       "      <td>3436</td>\n",
       "      <td>11.0</td>\n",
       "      <td>70</td>\n",
       "      <td>1</td>\n",
       "      <td>plymouth satellite</td>\n",
       "    </tr>\n",
       "    <tr>\n",
       "      <td>3</td>\n",
       "      <td>16.0</td>\n",
       "      <td>8</td>\n",
       "      <td>304.0</td>\n",
       "      <td>150.0</td>\n",
       "      <td>3433</td>\n",
       "      <td>12.0</td>\n",
       "      <td>70</td>\n",
       "      <td>1</td>\n",
       "      <td>amc rebel sst</td>\n",
       "    </tr>\n",
       "    <tr>\n",
       "      <td>4</td>\n",
       "      <td>17.0</td>\n",
       "      <td>8</td>\n",
       "      <td>302.0</td>\n",
       "      <td>140.0</td>\n",
       "      <td>3449</td>\n",
       "      <td>10.5</td>\n",
       "      <td>70</td>\n",
       "      <td>1</td>\n",
       "      <td>ford torino</td>\n",
       "    </tr>\n",
       "  </tbody>\n",
       "</table>\n",
       "</div>"
      ],
      "text/plain": [
       "    mpg  cylinders  displacement  horsepower  weight  acceleration  year  \\\n",
       "0  18.0          8         307.0       130.0    3504          12.0    70   \n",
       "1  15.0          8         350.0       165.0    3693          11.5    70   \n",
       "2  18.0          8         318.0       150.0    3436          11.0    70   \n",
       "3  16.0          8         304.0       150.0    3433          12.0    70   \n",
       "4  17.0          8         302.0       140.0    3449          10.5    70   \n",
       "\n",
       "   origin                       name  \n",
       "0       1  chevrolet chevelle malibu  \n",
       "1       1          buick skylark 320  \n",
       "2       1         plymouth satellite  \n",
       "3       1              amc rebel sst  \n",
       "4       1                ford torino  "
      ]
     },
     "execution_count": 6,
     "metadata": {},
     "output_type": "execute_result"
    }
   ],
   "source": [
    "df.head()"
   ]
  },
  {
   "cell_type": "code",
   "execution_count": 7,
   "metadata": {},
   "outputs": [
    {
     "data": {
      "text/plain": [
       "mpg             0\n",
       "cylinders       0\n",
       "displacement    0\n",
       "horsepower      6\n",
       "weight          0\n",
       "acceleration    0\n",
       "year            0\n",
       "origin          0\n",
       "name            0\n",
       "dtype: int64"
      ]
     },
     "execution_count": 7,
     "metadata": {},
     "output_type": "execute_result"
    }
   ],
   "source": [
    "df.isnull().sum()"
   ]
  },
  {
   "cell_type": "markdown",
   "metadata": {},
   "source": [
    "horsepower has 6 missing values. Let see what we can impute it with"
   ]
  },
  {
   "cell_type": "code",
   "execution_count": 8,
   "metadata": {},
   "outputs": [
    {
     "data": {
      "text/plain": [
       "count    392.000000\n",
       "mean     104.469388\n",
       "std       38.491160\n",
       "min       46.000000\n",
       "25%       75.000000\n",
       "50%       93.500000\n",
       "75%      126.000000\n",
       "max      230.000000\n",
       "Name: horsepower, dtype: float64"
      ]
     },
     "execution_count": 8,
     "metadata": {},
     "output_type": "execute_result"
    }
   ],
   "source": [
    "df['horsepower'].describe()"
   ]
  },
  {
   "cell_type": "markdown",
   "metadata": {},
   "source": [
    "The median and average for horsepower are very close. Lets impute with median"
   ]
  },
  {
   "cell_type": "code",
   "execution_count": 10,
   "metadata": {},
   "outputs": [],
   "source": [
    "df['horsepower'] = df['horsepower'].fillna(df['horsepower'].median())"
   ]
  },
  {
   "cell_type": "code",
   "execution_count": 11,
   "metadata": {},
   "outputs": [
    {
     "data": {
      "text/plain": [
       "mpg             0\n",
       "cylinders       0\n",
       "displacement    0\n",
       "horsepower      0\n",
       "weight          0\n",
       "acceleration    0\n",
       "year            0\n",
       "origin          0\n",
       "name            0\n",
       "dtype: int64"
      ]
     },
     "execution_count": 11,
     "metadata": {},
     "output_type": "execute_result"
    }
   ],
   "source": [
    "df.isnull().sum()"
   ]
  },
  {
   "cell_type": "markdown",
   "metadata": {},
   "source": [
    "Now we have taken care of all missing values"
   ]
  },
  {
   "cell_type": "markdown",
   "metadata": {},
   "source": [
    "## Seperate X and y"
   ]
  },
  {
   "cell_type": "code",
   "execution_count": 12,
   "metadata": {},
   "outputs": [],
   "source": [
    "X = df[['cylinders', 'displacement', 'horsepower', 'weight', 'acceleration', 'year', 'origin']].values\n",
    "y = df['mpg'].values"
   ]
  },
  {
   "cell_type": "markdown",
   "metadata": {},
   "source": [
    "## Train test split\n",
    "train ~ 0.75, test ~ 0.25"
   ]
  },
  {
   "cell_type": "code",
   "execution_count": 15,
   "metadata": {},
   "outputs": [],
   "source": [
    "X_train, X_test, y_train, y_test = train_test_split(X, y, test_size=0.25, random_state=100)"
   ]
  },
  {
   "cell_type": "markdown",
   "metadata": {},
   "source": [
    "## Define the model"
   ]
  },
  {
   "cell_type": "code",
   "execution_count": 20,
   "metadata": {},
   "outputs": [],
   "source": [
    "model = Sequential()\n",
    "model.add(Dense(25, input_dim=X_train.shape[1], activation='relu'))\n",
    "model.add(Dense(10, activation='relu'))\n",
    "model.add(Dense(1))"
   ]
  },
  {
   "cell_type": "markdown",
   "metadata": {},
   "source": [
    "## Compile the model\n",
    "Tell the model how it should learn"
   ]
  },
  {
   "cell_type": "code",
   "execution_count": 21,
   "metadata": {},
   "outputs": [],
   "source": [
    "model.compile(loss='mean_squared_error', optimizer='adam')"
   ]
  },
  {
   "cell_type": "markdown",
   "metadata": {},
   "source": [
    "## Create call backs"
   ]
  },
  {
   "cell_type": "code",
   "execution_count": 22,
   "metadata": {},
   "outputs": [],
   "source": [
    "monitor = EarlyStopping(monitor='val_loss', min_delta=1e-3, patience=5, verbose=1, mode='auto', restore_best_weights=True)"
   ]
  },
  {
   "cell_type": "markdown",
   "metadata": {},
   "source": [
    "## Train the model"
   ]
  },
  {
   "cell_type": "code",
   "execution_count": 23,
   "metadata": {},
   "outputs": [
    {
     "name": "stdout",
     "output_type": "stream",
     "text": [
      "Train on 298 samples, validate on 100 samples\n",
      "Epoch 1/1000\n",
      "298/298 - 1s - loss: 25927.0315 - val_loss: 664.3839\n",
      "Epoch 2/1000\n",
      "298/298 - 0s - loss: 4897.7619 - val_loss: 5037.7648\n",
      "Epoch 3/1000\n",
      "298/298 - 0s - loss: 1548.5215 - val_loss: 641.0932\n",
      "Epoch 4/1000\n",
      "298/298 - 0s - loss: 1023.1946 - val_loss: 397.0434\n",
      "Epoch 5/1000\n",
      "298/298 - 0s - loss: 212.9075 - val_loss: 372.2021\n",
      "Epoch 6/1000\n",
      "298/298 - 0s - loss: 235.5882 - val_loss: 119.0781\n",
      "Epoch 7/1000\n",
      "298/298 - 0s - loss: 139.2441 - val_loss: 128.5716\n",
      "Epoch 8/1000\n",
      "298/298 - 0s - loss: 122.4120 - val_loss: 134.7852\n",
      "Epoch 9/1000\n",
      "298/298 - 0s - loss: 111.9813 - val_loss: 114.6023\n",
      "Epoch 10/1000\n",
      "298/298 - 0s - loss: 112.4785 - val_loss: 112.6158\n",
      "Epoch 11/1000\n",
      "298/298 - 0s - loss: 106.8848 - val_loss: 113.6445\n",
      "Epoch 12/1000\n",
      "298/298 - 0s - loss: 105.8105 - val_loss: 110.4917\n",
      "Epoch 13/1000\n",
      "298/298 - 0s - loss: 103.7382 - val_loss: 107.6066\n",
      "Epoch 14/1000\n",
      "298/298 - 0s - loss: 101.9350 - val_loss: 108.7896\n",
      "Epoch 15/1000\n",
      "298/298 - 0s - loss: 101.1224 - val_loss: 104.8780\n",
      "Epoch 16/1000\n",
      "298/298 - 0s - loss: 99.2952 - val_loss: 102.9353\n",
      "Epoch 17/1000\n",
      "298/298 - 0s - loss: 97.5345 - val_loss: 101.2855\n",
      "Epoch 18/1000\n",
      "298/298 - 0s - loss: 96.8659 - val_loss: 99.3153\n",
      "Epoch 19/1000\n",
      "298/298 - 0s - loss: 95.5561 - val_loss: 98.1232\n",
      "Epoch 20/1000\n",
      "298/298 - 0s - loss: 94.7159 - val_loss: 96.6009\n",
      "Epoch 21/1000\n",
      "298/298 - 0s - loss: 91.5393 - val_loss: 94.9829\n",
      "Epoch 22/1000\n",
      "298/298 - 0s - loss: 89.8590 - val_loss: 92.8911\n",
      "Epoch 23/1000\n",
      "298/298 - 0s - loss: 88.9693 - val_loss: 91.6996\n",
      "Epoch 24/1000\n",
      "298/298 - 0s - loss: 87.0989 - val_loss: 90.2376\n",
      "Epoch 25/1000\n",
      "298/298 - 0s - loss: 85.4790 - val_loss: 87.6565\n",
      "Epoch 26/1000\n",
      "298/298 - 0s - loss: 83.7336 - val_loss: 86.2463\n",
      "Epoch 27/1000\n",
      "298/298 - 0s - loss: 82.2582 - val_loss: 84.5480\n",
      "Epoch 28/1000\n",
      "298/298 - 0s - loss: 83.3560 - val_loss: 82.9340\n",
      "Epoch 29/1000\n",
      "298/298 - 0s - loss: 81.3166 - val_loss: 82.9996\n",
      "Epoch 30/1000\n",
      "298/298 - 0s - loss: 78.4850 - val_loss: 80.2140\n",
      "Epoch 31/1000\n",
      "298/298 - 0s - loss: 78.3306 - val_loss: 79.1295\n",
      "Epoch 32/1000\n",
      "298/298 - 0s - loss: 75.6118 - val_loss: 77.4753\n",
      "Epoch 33/1000\n",
      "298/298 - 0s - loss: 74.6905 - val_loss: 76.3028\n",
      "Epoch 34/1000\n",
      "298/298 - 0s - loss: 74.9567 - val_loss: 75.3191\n",
      "Epoch 35/1000\n",
      "298/298 - 0s - loss: 72.1715 - val_loss: 73.6622\n",
      "Epoch 36/1000\n",
      "298/298 - 0s - loss: 72.3411 - val_loss: 73.9019\n",
      "Epoch 37/1000\n",
      "298/298 - 0s - loss: 69.7325 - val_loss: 72.0004\n",
      "Epoch 38/1000\n",
      "298/298 - 0s - loss: 72.6212 - val_loss: 76.5310\n",
      "Epoch 39/1000\n",
      "298/298 - 0s - loss: 71.4187 - val_loss: 70.7152\n",
      "Epoch 40/1000\n",
      "298/298 - 0s - loss: 67.1763 - val_loss: 70.1656\n",
      "Epoch 41/1000\n",
      "298/298 - 0s - loss: 66.2247 - val_loss: 67.0226\n",
      "Epoch 42/1000\n",
      "298/298 - 0s - loss: 66.0962 - val_loss: 65.8021\n",
      "Epoch 43/1000\n",
      "298/298 - 0s - loss: 63.4464 - val_loss: 68.7733\n",
      "Epoch 44/1000\n",
      "298/298 - 0s - loss: 63.2609 - val_loss: 63.8900\n",
      "Epoch 45/1000\n",
      "298/298 - 0s - loss: 61.8592 - val_loss: 66.1080\n",
      "Epoch 46/1000\n",
      "298/298 - 0s - loss: 62.4182 - val_loss: 63.9062\n",
      "Epoch 47/1000\n",
      "298/298 - 0s - loss: 62.5374 - val_loss: 61.5438\n",
      "Epoch 48/1000\n",
      "298/298 - 0s - loss: 59.8194 - val_loss: 60.3278\n",
      "Epoch 49/1000\n",
      "298/298 - 0s - loss: 58.7763 - val_loss: 59.7220\n",
      "Epoch 50/1000\n",
      "298/298 - 0s - loss: 58.0580 - val_loss: 58.7703\n",
      "Epoch 51/1000\n",
      "298/298 - 0s - loss: 58.8620 - val_loss: 60.6165\n",
      "Epoch 52/1000\n",
      "298/298 - 0s - loss: 58.7785 - val_loss: 57.4700\n",
      "Epoch 53/1000\n",
      "298/298 - 0s - loss: 57.2281 - val_loss: 56.6751\n",
      "Epoch 54/1000\n",
      "298/298 - 0s - loss: 55.4163 - val_loss: 56.7737\n",
      "Epoch 55/1000\n",
      "298/298 - 0s - loss: 54.6382 - val_loss: 55.8775\n",
      "Epoch 56/1000\n",
      "298/298 - 0s - loss: 54.4571 - val_loss: 54.6630\n",
      "Epoch 57/1000\n",
      "298/298 - 0s - loss: 53.8086 - val_loss: 54.4771\n",
      "Epoch 58/1000\n",
      "298/298 - 0s - loss: 52.5227 - val_loss: 53.1112\n",
      "Epoch 59/1000\n",
      "298/298 - 0s - loss: 52.1955 - val_loss: 53.1835\n",
      "Epoch 60/1000\n",
      "298/298 - 0s - loss: 52.8542 - val_loss: 55.2694\n",
      "Epoch 61/1000\n",
      "298/298 - 0s - loss: 52.5082 - val_loss: 51.3933\n",
      "Epoch 62/1000\n",
      "298/298 - 0s - loss: 50.1348 - val_loss: 51.5997\n",
      "Epoch 63/1000\n",
      "298/298 - 0s - loss: 50.5081 - val_loss: 50.4920\n",
      "Epoch 64/1000\n",
      "298/298 - 0s - loss: 50.0082 - val_loss: 50.3882\n",
      "Epoch 65/1000\n",
      "298/298 - 0s - loss: 49.2639 - val_loss: 49.3635\n",
      "Epoch 66/1000\n",
      "298/298 - 0s - loss: 50.6268 - val_loss: 50.4563\n",
      "Epoch 67/1000\n",
      "298/298 - 0s - loss: 51.1841 - val_loss: 49.3495\n",
      "Epoch 68/1000\n",
      "298/298 - 0s - loss: 47.4086 - val_loss: 49.6654\n",
      "Epoch 69/1000\n",
      "298/298 - 0s - loss: 47.5529 - val_loss: 48.4497\n",
      "Epoch 70/1000\n",
      "298/298 - 0s - loss: 47.4600 - val_loss: 47.2064\n",
      "Epoch 71/1000\n",
      "298/298 - 0s - loss: 47.7907 - val_loss: 52.2398\n",
      "Epoch 72/1000\n",
      "298/298 - 0s - loss: 47.3593 - val_loss: 47.3173\n",
      "Epoch 73/1000\n",
      "298/298 - 0s - loss: 46.5605 - val_loss: 46.4495\n",
      "Epoch 74/1000\n",
      "298/298 - 0s - loss: 45.8716 - val_loss: 45.6946\n",
      "Epoch 75/1000\n",
      "298/298 - 0s - loss: 45.8246 - val_loss: 45.7725\n",
      "Epoch 76/1000\n",
      "298/298 - 0s - loss: 44.3223 - val_loss: 45.7089\n",
      "Epoch 77/1000\n",
      "298/298 - 0s - loss: 44.7044 - val_loss: 45.4343\n",
      "Epoch 78/1000\n",
      "298/298 - 0s - loss: 45.1433 - val_loss: 46.0178\n",
      "Epoch 79/1000\n",
      "298/298 - 0s - loss: 48.6940 - val_loss: 50.9731\n",
      "Epoch 80/1000\n",
      "298/298 - 0s - loss: 48.3231 - val_loss: 46.5369\n",
      "Epoch 81/1000\n",
      "298/298 - 0s - loss: 43.7635 - val_loss: 47.7545\n",
      "Epoch 82/1000\n",
      "298/298 - 0s - loss: 44.2131 - val_loss: 44.8332\n",
      "Epoch 83/1000\n",
      "298/298 - 0s - loss: 42.6114 - val_loss: 43.9858\n",
      "Epoch 84/1000\n",
      "298/298 - 0s - loss: 41.7169 - val_loss: 43.1183\n",
      "Epoch 85/1000\n",
      "298/298 - 0s - loss: 42.8426 - val_loss: 43.1813\n",
      "Epoch 86/1000\n",
      "298/298 - 0s - loss: 42.1841 - val_loss: 45.9759\n",
      "Epoch 87/1000\n",
      "298/298 - 0s - loss: 44.8618 - val_loss: 42.4682\n",
      "Epoch 88/1000\n",
      "298/298 - 0s - loss: 43.3625 - val_loss: 45.0842\n",
      "Epoch 89/1000\n",
      "298/298 - 0s - loss: 42.5627 - val_loss: 41.2803\n",
      "Epoch 90/1000\n",
      "298/298 - 0s - loss: 40.0669 - val_loss: 41.0265\n",
      "Epoch 91/1000\n",
      "298/298 - 0s - loss: 39.1755 - val_loss: 40.8387\n",
      "Epoch 92/1000\n",
      "298/298 - 0s - loss: 39.5189 - val_loss: 40.7858\n",
      "Epoch 93/1000\n",
      "298/298 - 0s - loss: 38.4240 - val_loss: 42.9000\n",
      "Epoch 94/1000\n",
      "298/298 - 0s - loss: 39.8827 - val_loss: 40.5305\n",
      "Epoch 95/1000\n",
      "298/298 - 0s - loss: 39.6689 - val_loss: 41.3712\n",
      "Epoch 96/1000\n",
      "298/298 - 0s - loss: 39.6590 - val_loss: 39.3048\n",
      "Epoch 97/1000\n",
      "298/298 - 0s - loss: 37.7430 - val_loss: 39.2530\n",
      "Epoch 98/1000\n",
      "298/298 - 0s - loss: 37.7794 - val_loss: 38.6734\n",
      "Epoch 99/1000\n",
      "298/298 - 0s - loss: 36.9717 - val_loss: 37.8431\n",
      "Epoch 100/1000\n",
      "298/298 - 0s - loss: 36.5087 - val_loss: 38.2763\n",
      "Epoch 101/1000\n",
      "298/298 - 0s - loss: 36.5694 - val_loss: 37.2716\n",
      "Epoch 102/1000\n",
      "298/298 - 0s - loss: 37.8068 - val_loss: 36.5840\n",
      "Epoch 103/1000\n",
      "298/298 - 0s - loss: 35.8058 - val_loss: 36.5935\n",
      "Epoch 104/1000\n",
      "298/298 - 0s - loss: 35.3184 - val_loss: 36.1090\n",
      "Epoch 105/1000\n",
      "298/298 - 0s - loss: 35.9899 - val_loss: 39.1723\n",
      "Epoch 106/1000\n",
      "298/298 - 0s - loss: 35.8957 - val_loss: 39.1695\n",
      "Epoch 107/1000\n",
      "298/298 - 0s - loss: 38.4348 - val_loss: 35.8787\n",
      "Epoch 108/1000\n",
      "298/298 - 0s - loss: 36.3477 - val_loss: 34.8252\n",
      "Epoch 109/1000\n",
      "298/298 - 0s - loss: 34.4474 - val_loss: 37.0506\n",
      "Epoch 110/1000\n",
      "298/298 - 0s - loss: 38.3417 - val_loss: 35.0094\n",
      "Epoch 111/1000\n",
      "298/298 - 0s - loss: 38.4537 - val_loss: 38.9218\n",
      "Epoch 112/1000\n",
      "298/298 - 0s - loss: 37.0458 - val_loss: 45.7532\n",
      "Epoch 113/1000\n",
      "Restoring model weights from the end of the best epoch.\n",
      "298/298 - 0s - loss: 37.5382 - val_loss: 35.6678\n",
      "Epoch 00113: early stopping\n"
     ]
    },
    {
     "data": {
      "text/plain": [
       "<tensorflow.python.keras.callbacks.History at 0x7fa6ae7141d0>"
      ]
     },
     "execution_count": 23,
     "metadata": {},
     "output_type": "execute_result"
    }
   ],
   "source": [
    "model.fit(X_train, y_train, validation_data=(X_test, y_test), callbacks=[monitor], verbose=2, epochs=1000)"
   ]
  },
  {
   "cell_type": "code",
   "execution_count": null,
   "metadata": {},
   "outputs": [],
   "source": []
  }
 ],
 "metadata": {
  "kernelspec": {
   "display_name": "Python 3",
   "language": "python",
   "name": "python3"
  },
  "language_info": {
   "codemirror_mode": {
    "name": "ipython",
    "version": 3
   },
   "file_extension": ".py",
   "mimetype": "text/x-python",
   "name": "python",
   "nbconvert_exporter": "python",
   "pygments_lexer": "ipython3",
   "version": "3.7.4"
  }
 },
 "nbformat": 4,
 "nbformat_minor": 2
}
